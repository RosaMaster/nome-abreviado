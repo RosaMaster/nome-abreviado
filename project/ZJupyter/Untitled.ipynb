{
 "cells": [
  {
   "cell_type": "code",
   "execution_count": 11,
   "id": "38d35ee8-28ce-4ce3-b529-23fbe6c98017",
   "metadata": {},
   "outputs": [
    {
     "name": "stdout",
     "output_type": "stream",
     "text": [
      "     Joao  de Keolzag  Das Gorgrump e Nagcu dos Santos  \n",
      "<class 'str'>\n",
      "['Joao', 'de', 'Keolzag', 'Das', 'Gorgrump', 'e', 'Nagcu', 'dos', 'Santos']\n",
      "<class 'list'>\n"
     ]
    }
   ],
   "source": [
    "string = \"     Joao  de Keolzag  Das Gorgrump e Nagcu dos Santos  \"\n",
    "lista = [\"Joao\", \"de\", \"Keolzag\", \"Das\", \"Gorgrump\", \"e\", \"Nagcu\", \"dos\", \"Santos\"]\n",
    "# lista = [\"Joao\", \"Keolzag\", \"Gorgrump\", \"Nagcu\", \"Santos\"]\n",
    "\n",
    "print(string)\n",
    "print(type(string))\n",
    "print(lista)\n",
    "print(type(lista))"
   ]
  },
  {
   "cell_type": "code",
   "execution_count": 13,
   "id": "19fa0174-f456-4a0d-9df3-50fedd863bb2",
   "metadata": {},
   "outputs": [
    {
     "name": "stdout",
     "output_type": "stream",
     "text": [
      "Joao\n",
      "0\n",
      "de\n",
      "Keolzag\n",
      "Das\n",
      "Gorgrump\n",
      "e\n",
      "Nagcu\n",
      "dos\n",
      "Santos\n",
      "8\n",
      "['Joao', 'd ', 'K ', 'D ', 'G ', 'e', 'Nagcu', 'dos', 'Santos']\n"
     ]
    }
   ],
   "source": [
    "def abreviar(list, item, limite):\n",
    "    print(list[item])\n",
    "    count = 0\n",
    "    if item == 0 or item == len(lista) - 1:\n",
    "        count += item\n",
    "        print(count)\n",
    "    elif sum(len(item) for item in lista) > limite:\n",
    "        list[item] = list[item][0] + ' '\n",
    "\n",
    "for item in range(len(lista)):\n",
    "    abreviar(lista, item, 30)\n",
    "\n",
    "print(lista)"
   ]
  },
  {
   "cell_type": "code",
   "execution_count": null,
   "id": "d31a5fba-307e-4203-bc4d-53b139a860ff",
   "metadata": {},
   "outputs": [],
   "source": []
  },
  {
   "cell_type": "code",
   "execution_count": null,
   "id": "9c04ac6e",
   "metadata": {},
   "outputs": [],
   "source": [
    "def abreviar_lista(lista, limite):\n",
    "    contador = sum(len(item) for item in lista)\n",
    "    print(contador)\n",
    "    \n",
    "    for i in range(len(lista)):\n",
    "        print(lista[i])\n",
    "        if i == 0 or i == len(lista) - 1\n",
    "            continue\n",
    "    else:\n",
    "        while contador > limite and len(lista[i]) > 1:\n",
    "            #lista[i] = lista[i][:-1]\n",
    "            #contador = sum(len(item) for item in lista)\n",
    "    return lista\n",
    "\n",
    "abreviar_lista(lista, 30)"
   ]
  },
  {
   "cell_type": "code",
   "execution_count": null,
   "id": "744243c6-e97a-4ca9-8f89-af5b71ff6f97",
   "metadata": {},
   "outputs": [],
   "source": [
    "ultimo_item = len(lista) - 1\n",
    "print(ultimo_item)  # Isso imprimirá: e\n",
    "print(lista[ultimo_item])"
   ]
  },
  {
   "cell_type": "code",
   "execution_count": null,
   "id": "43ab1152-e3b7-419e-812b-5315501e8219",
   "metadata": {},
   "outputs": [],
   "source": [
    "def abreviar(list, limite_caracter):\n",
    "    contador = sum(len(item) for item in lista)\n",
    "    for item in range(len(list)):\n",
    "        if item == 0 or item == len(lista) - 1:\n",
    "            continue\n",
    "        else:\n",
    "            list[item] = list[item][0] + ' '\n",
    "            print(list[item])\n",
    "\n",
    "abreviar(lista, 30)"
   ]
  },
  {
   "cell_type": "code",
   "execution_count": null,
   "id": "686195aa-43f1-470f-8f13-9ea98de81698",
   "metadata": {},
   "outputs": [],
   "source": [
    "def abreviar(list, item, limite):\n",
    "    print(list[item])\n",
    "    count = 0\n",
    "    if item == 0 or item == len(lista) - 1:\n",
    "        count += item\n",
    "    elif sum(len(item) for item in lista) > limite:\n",
    "        list[item] = list[item][0] + ' '\n",
    "\n",
    "for item in range(len(lista)):\n",
    "    abreviar(lista, item, 30)\n",
    "\n",
    "print(lista)"
   ]
  },
  {
   "cell_type": "code",
   "execution_count": null,
   "id": "5771b317-d698-4d0c-a158-c9f39b7891c5",
   "metadata": {},
   "outputs": [],
   "source": []
  }
 ],
 "metadata": {
  "kernelspec": {
   "display_name": "Python 3 (ipykernel)",
   "language": "python",
   "name": "python3"
  },
  "language_info": {
   "codemirror_mode": {
    "name": "ipython",
    "version": 3
   },
   "file_extension": ".py",
   "mimetype": "text/x-python",
   "name": "python",
   "nbconvert_exporter": "python",
   "pygments_lexer": "ipython3",
   "version": "3.12.2"
  }
 },
 "nbformat": 4,
 "nbformat_minor": 5
}
