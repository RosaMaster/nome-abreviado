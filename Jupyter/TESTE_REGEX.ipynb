{
 "cells": [
  {
   "cell_type": "code",
   "execution_count": 42,
   "id": "fbc91a0a-075a-4f77-96d1-a9c1b9d3483e",
   "metadata": {},
   "outputs": [
    {
     "name": "stdout",
     "output_type": "stream",
     "text": [
      "~Frêiá * 13º Tabelião [Keölzag] D`agua§ <Guarda+Chuva> & Guarda = Chuvas Das {@Gorgrump's} e ( Nagcu\"s ) dos (Santos) - [ LTDA ] - EPP~\n",
      "~Freia * 13º Tabeliao [Keolzag] D`agua§ <Guarda+Chuva> & Guarda = Chuvas Das {aGorgrumps} e ( Nagcu\"s ) dos (Santos) - [ LTDA ] - EPP~\n",
      "Freia 13 Tabeliao Keolzag Dagua Guarda Chuva Guarda Chuvas Das aGorgrumps e Nagcus dos Santos LTDA EPP\n"
     ]
    }
   ],
   "source": [
    "import re\n",
    "import json\n",
    "\n",
    "# https://pt.stackoverflow.com/questions/208821/como-remover-colchetes-em-uma-regex\n",
    "\n",
    "data = {\n",
    "  \"nome\": \"~Frêiá * 13º Tabelião [Keölzag] D`agua§ <Guarda+Chuva> & Guarda = Chuvas Das {@Gorgrump's} e ( Nagcu\"+'\"'+\"s ) dos (Santos) - [ LTDA ] - EPP~\",\n",
    "  \"idade\": 30,\n",
    "  \"cidade\": \"Sao Paulo\"\n",
    "}\n",
    "\n",
    "nome_string = data.get(\"nome\")       # OR data[\"nome\"]\n",
    "\n",
    "print(nome_string)\n",
    "\n",
    "characteres = str.maketrans(\"@áàâãäéèêëíìîïóòôõöúùûüçÁÀÂÃÄÉÈÊËÍÌÎÏÓÒÔÕÖÚÙÛÜÇ\", \"aaaaaaeeeeiiiiooooouuuucAAAAAEEEEIIIIOOOOOUUUUC\")\n",
    "\n",
    "nome_string = nome_string.translate(characteres)\n",
    "\n",
    "regex_trata = re.compile(r\"[']\", re.IGNORECASE)\n",
    "\n",
    "nome_string = regex_trata.sub('', nome_string)\n",
    "\n",
    "print(nome_string)\n",
    "\n",
    "#regex_expressao_replace = re.compile(r\"\\b[d][aeiou]s?\\b|\\b[aeou]\\b|[@&*#%$!,.;:{}()_+=-]\", re.IGNORECASE)\n",
    "\n",
    "#regex_expressao_replace = re.compile(\"/[\\[\\].!'@,><|://\\\\;&*()_+=]/g\", re.IGNORECASE)\n",
    "\n",
    "#nome_string = regex_expressao_replace.sub('', nome_string)\n",
    "\n",
    "#nome_string.replace(\"/\\[.!'@,><|://\\\\;&*()_+=\\]/g\", \"\")\n",
    "\n",
    "# nome_string = re.sub(r'\\[|\\]|\\\"|\\'|[¹²³`£¢¬~&*#%$!,.;:{}()_+=]| [-]', '', nome_string)\n",
    "\n",
    "nome_string = re.sub(r'[\\[\\]\\\"\\'\\§¹²³`*£¢¬~&*#%$!ªº,.;:<>{}()]', '', nome_string)\n",
    "\n",
    "nome_string = re.sub(r'[\\_\\-\\+\\=]', ' ', nome_string)\n",
    "\n",
    "nome_string = nome_string.split()\n",
    "\n",
    "nome_string = ' '.join(nome_string)\n",
    "\n",
    "print(nome_string)\n",
    "\n"
   ]
  },
  {
   "cell_type": "code",
   "execution_count": null,
   "id": "5a399f73-4164-40d9-8a5c-0683da09a940",
   "metadata": {},
   "outputs": [],
   "source": []
  }
 ],
 "metadata": {
  "kernelspec": {
   "display_name": "Python 3 (ipykernel)",
   "language": "python",
   "name": "python3"
  },
  "language_info": {
   "codemirror_mode": {
    "name": "ipython",
    "version": 3
   },
   "file_extension": ".py",
   "mimetype": "text/x-python",
   "name": "python",
   "nbconvert_exporter": "python",
   "pygments_lexer": "ipython3",
   "version": "3.12.2"
  }
 },
 "nbformat": 4,
 "nbformat_minor": 5
}
